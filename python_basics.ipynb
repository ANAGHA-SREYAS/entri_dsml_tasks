{
  "nbformat": 4,
  "nbformat_minor": 0,
  "metadata": {
    "colab": {
      "provenance": [],
      "include_colab_link": true
    },
    "kernelspec": {
      "name": "python3",
      "display_name": "Python 3"
    },
    "language_info": {
      "name": "python"
    }
  },
  "cells": [
    {
      "cell_type": "markdown",
      "metadata": {
        "id": "view-in-github",
        "colab_type": "text"
      },
      "source": [
        "<a href=\"https://colab.research.google.com/github/ANAGHA-SREYAS/entri_dsml_tasks/blob/main/Anagha_vp.ipynb\" target=\"_parent\"><img src=\"https://colab.research.google.com/assets/colab-badge.svg\" alt=\"Open In Colab\"/></a>"
      ]
    },
    {
      "cell_type": "markdown",
      "source": [
        "1. Write a Python program to sum all the items in a list.\n"
      ],
      "metadata": {
        "id": "WbWqfjLILpYR"
      }
    },
    {
      "cell_type": "code",
      "execution_count": null,
      "metadata": {
        "id": "IeHCdrS5KBAJ",
        "outputId": "d77b71cf-a422-44ce-e150-35cdf4649273",
        "colab": {
          "base_uri": "https://localhost:8080/"
        }
      },
      "outputs": [
        {
          "output_type": "stream",
          "name": "stdout",
          "text": [
            "10\n"
          ]
        }
      ],
      "source": [
        "l=[1,2,3,4]\n",
        "sum=0\n",
        "for i in l:\n",
        "  sum+=i\n",
        "print(sum)"
      ]
    },
    {
      "cell_type": "markdown",
      "source": [
        "2. Write a Python program to get the largest number from a list.\n"
      ],
      "metadata": {
        "id": "1NgXL_KTLulQ"
      }
    },
    {
      "cell_type": "code",
      "source": [
        "l=[10,23,12,34,44]\n",
        "l.sort()\n",
        "print(\"largest number is\",l[-1])"
      ],
      "metadata": {
        "id": "W4A2hjGBLsu0",
        "colab": {
          "base_uri": "https://localhost:8080/"
        },
        "outputId": "f750a4f2-c1ba-48d9-c2f0-0eb0651c3a76"
      },
      "execution_count": null,
      "outputs": [
        {
          "output_type": "stream",
          "name": "stdout",
          "text": [
            "largest number is 44\n"
          ]
        }
      ]
    },
    {
      "cell_type": "markdown",
      "source": [
        "3. Write a Python program to count the number of strings from a given list of strings. The string length is 2 or more and the first and last characters are the same.\n",
        "\n",
        "```\n",
        "Sample List : ['abc', 'xyz', 'aba', '1221']\n",
        "Expected Result : 2\n",
        "```"
      ],
      "metadata": {
        "id": "azKVRKqWLvtp"
      }
    },
    {
      "cell_type": "code",
      "source": [
        "l=['abc','xyz','aba','1221']\n",
        "a=[]\n",
        "for i in l:\n",
        "  if len(i)>=2 and i[0]==i[-1]:\n",
        "    a.append(i)\n",
        "print(len(a))"
      ],
      "metadata": {
        "id": "4C9UmcCRL1Bp",
        "outputId": "e528abd6-c60b-4155-e720-23f94dd31a4f",
        "colab": {
          "base_uri": "https://localhost:8080/"
        }
      },
      "execution_count": null,
      "outputs": [
        {
          "output_type": "stream",
          "name": "stdout",
          "text": [
            "2\n"
          ]
        }
      ]
    },
    {
      "cell_type": "markdown",
      "source": [
        "4. Write a Python program to remove duplicates from a list.\n"
      ],
      "metadata": {
        "id": "2ZYOfK4rL20r"
      }
    },
    {
      "cell_type": "code",
      "source": [
        "fruits=[\"apple\",\"mango\",\"orange\",\"apple\"]\n",
        "list(set(fruits))\n"
      ],
      "metadata": {
        "id": "A4Et_q6CL3Pb",
        "outputId": "2e5066eb-05d8-4d81-c654-6736d2d3d7a7",
        "colab": {
          "base_uri": "https://localhost:8080/"
        }
      },
      "execution_count": null,
      "outputs": [
        {
          "output_type": "execute_result",
          "data": {
            "text/plain": [
              "['orange', 'apple', 'mango']"
            ]
          },
          "metadata": {},
          "execution_count": 8
        }
      ]
    },
    {
      "cell_type": "markdown",
      "source": [
        "5. Write a Python program to check if a list is empty or not.\n"
      ],
      "metadata": {
        "id": "kjtsEf0tL358"
      }
    },
    {
      "cell_type": "code",
      "source": [
        "a=[]\n",
        "if len(a)==0:\n",
        "  print(\"the given list is empty\")\n",
        "else:\n",
        "  print(\"the given list is not empty\")\n"
      ],
      "metadata": {
        "id": "e1C-5rk7L5OT",
        "outputId": "456122f9-0934-4595-8abb-49e9a15e520f",
        "colab": {
          "base_uri": "https://localhost:8080/"
        }
      },
      "execution_count": null,
      "outputs": [
        {
          "output_type": "stream",
          "name": "stdout",
          "text": [
            "the given list is empty\n"
          ]
        }
      ]
    },
    {
      "cell_type": "markdown",
      "source": [
        "6. Write a Python program to filter the list if the length of the character is < 4\n",
        "\n",
        "```\n",
        "Sample List : ['abc', 'xyz', 'aba', '1221']\n",
        "Expected Result: ['abc', 'xyz', 'aba']\n",
        "```\n"
      ],
      "metadata": {
        "id": "HPq-j6_5L6Bu"
      }
    },
    {
      "cell_type": "code",
      "source": [
        "lst=['abc','xyz','aba','1221']\n",
        "new_lst=[i for i in lst if len(i)<4]\n",
        "new_lst"
      ],
      "metadata": {
        "id": "e0Rk_iusL-Du",
        "outputId": "2a22e8a4-df87-4ae2-9c3e-a46d4fe72b57",
        "colab": {
          "base_uri": "https://localhost:8080/"
        }
      },
      "execution_count": null,
      "outputs": [
        {
          "output_type": "execute_result",
          "data": {
            "text/plain": [
              "['abc', 'xyz', 'aba']"
            ]
          },
          "metadata": {},
          "execution_count": 13
        }
      ]
    },
    {
      "cell_type": "markdown",
      "source": [
        "7.Write a Python program to find the second largest number in a list.\n"
      ],
      "metadata": {
        "id": "0Vo0Eo4GL_2N"
      }
    },
    {
      "cell_type": "code",
      "source": [
        "l=[1,3,5,6,8,4]\n",
        "l.sort()\n",
        "print(\"the second largest number is\",l[-2])"
      ],
      "metadata": {
        "id": "uIB8bq0IMAYB",
        "outputId": "744b5fd7-6781-4695-8da6-48e704fbc817",
        "colab": {
          "base_uri": "https://localhost:8080/"
        }
      },
      "execution_count": null,
      "outputs": [
        {
          "output_type": "stream",
          "name": "stdout",
          "text": [
            "the second largest number is 6\n"
          ]
        }
      ]
    },
    {
      "cell_type": "markdown",
      "source": [
        "8. Write a Python program to reverse a list at a specific location.\n"
      ],
      "metadata": {
        "id": "aManSXvqMBoz"
      }
    },
    {
      "cell_type": "code",
      "source": [
        "l=[10,20,30,40,50,60,70,80]\n",
        "l1=l[:3]\n",
        "l2=l[3:]\n",
        "l2.reverse()\n",
        "l1+l2\n"
      ],
      "metadata": {
        "id": "6-xOhDjGMCO4",
        "outputId": "37fcba4e-b75f-4d2f-e4f3-6dc94095ac8f",
        "colab": {
          "base_uri": "https://localhost:8080/"
        }
      },
      "execution_count": null,
      "outputs": [
        {
          "output_type": "execute_result",
          "data": {
            "text/plain": [
              "[10, 20, 30, 80, 70, 60, 50, 40]"
            ]
          },
          "metadata": {},
          "execution_count": 17
        }
      ]
    },
    {
      "cell_type": "markdown",
      "source": [
        "9. Write a Python program to check if a list is a palindrome or not. Return true otherwise false.\n"
      ],
      "metadata": {
        "id": "-mIvdmfVMCyV"
      }
    },
    {
      "cell_type": "code",
      "source": [
        "def palindrome(lst):\n",
        "  if  lst==lst[::-1]:\n",
        "    print(\"true\")\n",
        "  else:\n",
        "    print(\"false\")\n",
        "\n",
        "lst=[1,2,3,2,1]\n",
        "palindrome(lst)"
      ],
      "metadata": {
        "id": "128bnAjHMD_6",
        "outputId": "9c129551-7bee-4edf-baf0-27d3cbad993f",
        "colab": {
          "base_uri": "https://localhost:8080/"
        }
      },
      "execution_count": null,
      "outputs": [
        {
          "output_type": "stream",
          "name": "stdout",
          "text": [
            "true\n"
          ]
        }
      ]
    },
    {
      "cell_type": "markdown",
      "source": [
        "10. Write a Python a program to find the union and intersection of two lists.\n"
      ],
      "metadata": {
        "id": "r_OaahEUMFk9"
      }
    },
    {
      "cell_type": "code",
      "source": [
        "a={1,2,3,4,5}\n",
        "b={4,5,6,7,8}\n",
        "def union(a,b):\n",
        "  a|b\n",
        "  return a|b\n",
        "print(\"union of a,b is\",union(a,b))\n",
        "\n",
        "def intersection(a,b):\n",
        "  a&b\n",
        "  return a&b\n",
        "print(\"intersection of a,b is\",intersection(a,b))"
      ],
      "metadata": {
        "colab": {
          "base_uri": "https://localhost:8080/"
        },
        "id": "g5Rw-SMQMF7d",
        "outputId": "253c4310-6fe2-476c-dff9-63fc56b911e4"
      },
      "execution_count": null,
      "outputs": [
        {
          "output_type": "stream",
          "name": "stdout",
          "text": [
            "union of a,b is {1, 2, 3, 4, 5, 6, 7, 8}\n",
            "intersection of a,b is {4, 5}\n"
          ]
        }
      ]
    },
    {
      "cell_type": "markdown",
      "source": [
        "11.Write a Python script to sort (ascending and descending) a dictionary by value\n"
      ],
      "metadata": {
        "id": "O_KaZq9mMHMo"
      }
    },
    {
      "cell_type": "code",
      "source": [
        "d={\"apple\":3,\"orange\":2,\"mango\":1,\"grape\":4}\n",
        "def sort_value(item):\n",
        "  return item[1]\n",
        "sorted_d=dict(sorted(d.items(),key=sort_value))\n",
        "print(sorted_d)"
      ],
      "metadata": {
        "id": "iMEgBD_5MHe5",
        "colab": {
          "base_uri": "https://localhost:8080/"
        },
        "outputId": "2c479b4e-7822-4950-9cc4-206ef4cc4147"
      },
      "execution_count": null,
      "outputs": [
        {
          "output_type": "stream",
          "name": "stdout",
          "text": [
            "{'mango': 1, 'orange': 2, 'apple': 3, 'grape': 4}\n"
          ]
        }
      ]
    },
    {
      "cell_type": "markdown",
      "source": [
        "12. Write a Python script to check whether a given key already exists in a dictionary.\n"
      ],
      "metadata": {
        "id": "LRtPwyETMJFB"
      }
    },
    {
      "cell_type": "code",
      "source": [
        "a={\"apple\":5,\"orange\":8,\"mango\":1,\"grape\":2}\n",
        "b=a.items()\n",
        "def check_key(key):\n",
        "  for k,v in b:\n",
        "    if key==k:\n",
        "      print(\"already excisted\")\n",
        "key=\"apple\"\n",
        "check_key(key)"
      ],
      "metadata": {
        "id": "CzQHm4IWMJX5",
        "outputId": "60a86792-9ba7-4d0b-c673-db04e218c560",
        "colab": {
          "base_uri": "https://localhost:8080/"
        }
      },
      "execution_count": null,
      "outputs": [
        {
          "output_type": "stream",
          "name": "stdout",
          "text": [
            "already excisted\n"
          ]
        }
      ]
    },
    {
      "cell_type": "markdown",
      "source": [
        "13.Write a Python program to sum all the values in a dictionary.\n"
      ],
      "metadata": {
        "id": "ndM9xtBpMK7b"
      }
    },
    {
      "cell_type": "code",
      "source": [
        "a={\"apple\":5,\"orange\":8,\"mango\":1,\"grape\":2}\n",
        "b=a.items()\n",
        "value=[]\n",
        "for k,v in b:\n",
        "  value.append(v)\n",
        "sum=0\n",
        "for i in value:\n",
        "    sum+=i\n",
        "print(sum)"
      ],
      "metadata": {
        "id": "-UBNCNxbMLNa",
        "outputId": "72b39e13-86e7-4383-d04a-1b15754f3fae",
        "colab": {
          "base_uri": "https://localhost:8080/"
        }
      },
      "execution_count": null,
      "outputs": [
        {
          "output_type": "stream",
          "name": "stdout",
          "text": [
            "16\n"
          ]
        }
      ]
    },
    {
      "cell_type": "markdown",
      "source": [
        "14.Write a Python program to create a dictionary with a number and its corresponding square from 1 to input number. And also check if the input number is less than 10\n",
        "\n",
        "```\n",
        "Eg:\n",
        "Input : 3\n",
        "Output : {1:1, 2:4, 3:9}\n",
        "```"
      ],
      "metadata": {
        "id": "0qVfQATqMNdJ"
      }
    },
    {
      "cell_type": "code",
      "source": [
        "def square_dictionary(a):\n",
        "  d={}\n",
        "  if a<10:\n",
        "    for i in range(1,a+1):\n",
        "      d[i]=i*i\n",
        "    return d\n",
        "  else:\n",
        "    print(\"input number should be less than 10\")\n",
        "    return None\n",
        "square_dictionary(6)"
      ],
      "metadata": {
        "id": "XCkHf-OvMPVf",
        "outputId": "7ebdcab0-d106-48d4-dfba-3764b5743617",
        "colab": {
          "base_uri": "https://localhost:8080/"
        }
      },
      "execution_count": null,
      "outputs": [
        {
          "output_type": "execute_result",
          "data": {
            "text/plain": [
              "{1: 1, 2: 4, 3: 9, 4: 16, 5: 25, 6: 36}"
            ]
          },
          "metadata": {},
          "execution_count": 27
        }
      ]
    },
    {
      "cell_type": "markdown",
      "source": [
        "15.Write a Python program to sort a given dictionary by key.\n"
      ],
      "metadata": {
        "id": "5Ku1ZCBMMRGO"
      }
    },
    {
      "cell_type": "code",
      "source": [
        "data={3:'a',4:'b',2:'c',1:'d'}\n",
        "sorted_data={}\n",
        "sorted_keys=sorted(data.keys())\n",
        "for i in sorted_keys:\n",
        "  sorted_data[i]=data[i]\n",
        "print(sorted_data)"
      ],
      "metadata": {
        "id": "Uo1ha3q4MRaG",
        "outputId": "e616c270-6a51-4b26-f1dd-0b8c3c0a32de",
        "colab": {
          "base_uri": "https://localhost:8080/"
        }
      },
      "execution_count": null,
      "outputs": [
        {
          "output_type": "stream",
          "name": "stdout",
          "text": [
            "{1: 'd', 2: 'c', 3: 'a', 4: 'b'}\n"
          ]
        }
      ]
    },
    {
      "cell_type": "markdown",
      "source": [
        "16.  Write a Python program to create a dictionary from a string.\n",
        "\n",
        "```\n",
        "Note: Track the count of the letters from the string.\n",
        "Sample string : 'learnpython'\n",
        "Expected output: {'l': 1, 'e': 1, 'a': 1, 'r': 1, 'n': 2, 'p': 1, 'y': 1, 't': 1, 'h': 1, 'o': 1}\n",
        "\n",
        "```"
      ],
      "metadata": {
        "id": "VFB6DT7uMTCo"
      }
    },
    {
      "cell_type": "code",
      "source": [
        "def str_dict(a):\n",
        "  d={}\n",
        "  for i in a:\n",
        "    if i in d:\n",
        "      d[i] +=1\n",
        "    else:\n",
        "      d[i]=1\n",
        "  return d\n",
        "a=\"learnpython\"\n",
        "str_dict(a)"
      ],
      "metadata": {
        "id": "Pst-k-SZMTUo",
        "outputId": "c558d6ca-2410-4fee-b54c-1d80a189dc74",
        "colab": {
          "base_uri": "https://localhost:8080/"
        }
      },
      "execution_count": null,
      "outputs": [
        {
          "output_type": "execute_result",
          "data": {
            "text/plain": [
              "{'l': 1,\n",
              " 'e': 1,\n",
              " 'a': 1,\n",
              " 'r': 1,\n",
              " 'n': 2,\n",
              " 'p': 1,\n",
              " 'y': 1,\n",
              " 't': 1,\n",
              " 'h': 1,\n",
              " 'o': 1}"
            ]
          },
          "metadata": {},
          "execution_count": 28
        }
      ]
    },
    {
      "cell_type": "markdown",
      "source": [
        "17. Write a Python program to get the top three items in a shop.\n",
        "\n",
        "```\n",
        "Sample data: {'item1': 45.50, 'item2':35, 'item3': 41.30, 'item4':55, 'item5': 24}\n",
        "\n",
        "Expected Output:\n",
        "item4 55\n",
        "item1 45.5\n",
        "item3 41.3\n",
        "```\n"
      ],
      "metadata": {
        "id": "OnYknUtWMYSr"
      }
    },
    {
      "cell_type": "code",
      "source": [
        "data={'item1': 45.50, 'item2':35, 'item3': 41.30, 'item4':55, 'item5': 24}\n",
        "values=data.values()\n",
        "values=list(values)\n",
        "values.sort()\n",
        "a=values[-3:]\n",
        "a.reverse\n",
        "for k,v in data.items():\n",
        "  if v in a:\n",
        "    print(k,v)"
      ],
      "metadata": {
        "colab": {
          "base_uri": "https://localhost:8080/"
        },
        "id": "2q8ev-kbMas2",
        "outputId": "d1fee4de-b58a-4f17-d224-1b2d50b3bc5f"
      },
      "execution_count": null,
      "outputs": [
        {
          "output_type": "stream",
          "name": "stdout",
          "text": [
            "item1 45.5\n",
            "item3 41.3\n",
            "item4 55\n"
          ]
        }
      ]
    }
  ]
}
