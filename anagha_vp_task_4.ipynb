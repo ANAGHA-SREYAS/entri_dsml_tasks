{
  "nbformat": 4,
  "nbformat_minor": 0,
  "metadata": {
    "colab": {
      "provenance": [],
      "authorship_tag": "ABX9TyNOkMY8sV1L/RKk06ENnpXB",
      "include_colab_link": true
    },
    "kernelspec": {
      "name": "python3",
      "display_name": "Python 3"
    },
    "language_info": {
      "name": "python"
    }
  },
  "cells": [
    {
      "cell_type": "markdown",
      "metadata": {
        "id": "view-in-github",
        "colab_type": "text"
      },
      "source": [
        "<a href=\"https://colab.research.google.com/github/ANAGHA-SREYAS/entri_dsml_tasks/blob/main/anagha_vp_task_4.ipynb\" target=\"_parent\"><img src=\"https://colab.research.google.com/assets/colab-badge.svg\" alt=\"Open In Colab\"/></a>"
      ]
    },
    {
      "cell_type": "markdown",
      "source": [
        "1.Write a Python program to check that a string contains only a certain set of characters (in this case a-z, A-Z and 0-9)."
      ],
      "metadata": {
        "id": "e4vwltmcaOYy"
      }
    },
    {
      "cell_type": "code",
      "execution_count": null,
      "metadata": {
        "id": "7Ti36iAqaJKB"
      },
      "outputs": [],
      "source": [
        "import re\n",
        "\n",
        "def is_valid_string(input_string):\n",
        "    allowed_characters = re.compile(r'^[a-zA-Z0-9]+$')\n",
        "\n",
        "    if allowed_characters.match(input_string):\n",
        "        return True\n",
        "    else:\n",
        "        return False\n",
        "\n",
        "\n",
        "user_input = input(\"Enter a string: \")\n",
        "if is_valid_string(user_input):\n",
        "    print(\"The string is valid.\")\n",
        "else:\n",
        "    print(\"The string contains invalid characters.\")\n"
      ]
    },
    {
      "cell_type": "markdown",
      "source": [
        "2.Write a Python program that matches a string that has an a followed by zero or more b's"
      ],
      "metadata": {
        "id": "05CpE58Gb6uM"
      }
    },
    {
      "cell_type": "code",
      "source": [
        "import re\n",
        "\n",
        "def match_pattern(input_string):\n",
        "    pattern = re.compile(r'ab*')\n",
        "\n",
        "    if pattern.match(input_string):\n",
        "        return True\n",
        "    else:\n",
        "        return False\n",
        "\n",
        "user_input = input(\"Enter a string: \")\n",
        "if match_pattern(user_input):\n",
        "    print(\"The string matches the pattern.\")\n",
        "else:\n",
        "    print(\"The string does not match the pattern.\")\n"
      ],
      "metadata": {
        "id": "a60kj5UWcFrR"
      },
      "execution_count": null,
      "outputs": []
    },
    {
      "cell_type": "markdown",
      "source": [
        "3.Replace only the first occurrence of 5 with five for the given string"
      ],
      "metadata": {
        "id": "Qsou5SQhcWmR"
      }
    },
    {
      "cell_type": "code",
      "source": [
        "def replace_first_occurrence(input_string, old_substring, new_substring):\n",
        "    modified_string = input_string.replace(old_substring, new_substring, 1)\n",
        "    return modified_string\n",
        "\n",
        "input_string = \"they ate 5 apples and 5 oranges.\"\n",
        "old_substring = \"5\"\n",
        "new_substring = \"five\"\n",
        "result = replace_first_occurrence(input_string, old_substring, new_substring)\n",
        "print(\"Original string:\", input_string)\n",
        "print(\"Modified string:\", result)\n"
      ],
      "metadata": {
        "colab": {
          "base_uri": "https://localhost:8080/"
        },
        "id": "nHiN9wuCc19M",
        "outputId": "85b11be6-7eaf-4bec-85fb-3d8b9e7fa902"
      },
      "execution_count": null,
      "outputs": [
        {
          "output_type": "stream",
          "name": "stdout",
          "text": [
            "Original string: they ate 5 apples and 5 oranges.\n",
            "Modified string: they ate five apples and 5 oranges.\n"
          ]
        }
      ]
    },
    {
      "cell_type": "markdown",
      "source": [
        "4.\n",
        "Write a Python program that matches a string that has an a followed by three 'b'"
      ],
      "metadata": {
        "id": "AkNzkl8VdXd_"
      }
    },
    {
      "cell_type": "code",
      "source": [
        "import re\n",
        "\n",
        "def match_pattern(input_string):\n",
        "    pattern = re.compile(r'ab{3}')\n",
        "\n",
        "    if pattern.search(input_string):\n",
        "        return True\n",
        "    else:\n",
        "        return False\n",
        "user_input = input(\"Enter a string: \")\n",
        "if match_pattern(user_input):\n",
        "    print(\"The string matches the pattern.\")\n",
        "else:\n",
        "    print(\"The string does not match the pattern.\")\n"
      ],
      "metadata": {
        "id": "Sr51wPqxdd16"
      },
      "execution_count": null,
      "outputs": []
    },
    {
      "cell_type": "markdown",
      "source": [
        "5.Write a Python program that matches a string that has an 'a' followed by anything ending in 'b'."
      ],
      "metadata": {
        "id": "zx1M8UIOdodZ"
      }
    },
    {
      "cell_type": "code",
      "source": [
        "import re\n",
        "\n",
        "def match_pattern(input_string):\n",
        "    pattern = re.compile(r'a.*b$')\n",
        "\n",
        "    if pattern.search(input_string):\n",
        "        return True\n",
        "    else:\n",
        "        return False\n",
        "user_input = input(\"Enter a string: \")\n",
        "if match_pattern(user_input):\n",
        "    print(\"The string matches the pattern.\")\n",
        "else:\n",
        "    print(\"The string does not match the pattern.\")\n"
      ],
      "metadata": {
        "id": "MbftCI_rdx3J"
      },
      "execution_count": null,
      "outputs": []
    },
    {
      "cell_type": "markdown",
      "source": [
        "6.Write a Python program to search for numbers (0-9) of length between 1 and 3 in a given string"
      ],
      "metadata": {
        "id": "-l858tHdeLOq"
      }
    },
    {
      "cell_type": "code",
      "source": [
        "import re\n",
        "\n",
        "def find_numbers(input_string):\n",
        "    pattern = re.compile(r'\\b\\d{1,3}\\b')\n",
        "\n",
        "    numbers = pattern.findall(input_string)\n",
        "    return numbers\n",
        "\n",
        "txt = \"Exercises number 1, 12, 13, and 345 are important\"\n",
        "result = find_numbers(txt)\n",
        "\n",
        "print(\"Numbers found:\", result)\n"
      ],
      "metadata": {
        "id": "bIhM-_xse8C1"
      },
      "execution_count": null,
      "outputs": []
    },
    {
      "cell_type": "markdown",
      "source": [
        "7.Write a Python program to search for literal strings within a string.\n",
        "Sample text : 'The quick brown fox jumps over the lazy dog.'\n",
        "Searched words : 'fox', 'dog', 'horse"
      ],
      "metadata": {
        "id": "F2c_WOuefLfk"
      }
    },
    {
      "cell_type": "code",
      "source": [
        "def search_strings(text, searched_words):\n",
        "    found_words = []\n",
        "\n",
        "    for word in searched_words:\n",
        "        if word in text:\n",
        "            found_words.append(word)\n",
        "\n",
        "    return found_words\n",
        "\n",
        "sample_text = 'The quick brown fox jumps over the lazy dog.'\n",
        "searched_words = ['fox', 'dog', 'horse']\n",
        "\n",
        "result = search_strings(sample_text, searched_words)\n",
        "\n",
        "print(\"Found words:\", result)\n"
      ],
      "metadata": {
        "id": "yg_z-KWxfRjl"
      },
      "execution_count": null,
      "outputs": []
    },
    {
      "cell_type": "markdown",
      "source": [
        "8.\n",
        "Write a Python program to search for a literal string in a string and also find the location within the original string where the pattern occurs.\n",
        "Sample text : 'The quick brown fox jumps over the lazy dog.'\n",
        "Searched words : 'fox"
      ],
      "metadata": {
        "id": "RTtZDbNlfdEv"
      }
    },
    {
      "cell_type": "code",
      "source": [
        "def search_and_locate(text, searched_word):\n",
        "    location = text.find(searched_word)\n",
        "\n",
        "    if location != -1:\n",
        "        return f\"The word '{searched_word}' is found at index {location}.\"\n",
        "    else:\n",
        "        return f\"The word '{searched_word}' is not found in the given text.\"\n",
        "\n",
        "# Example usage:\n",
        "sample_text = 'The quick brown fox jumps over the lazy dog.'\n",
        "searched_word = 'fox'\n",
        "\n",
        "result = search_and_locate(sample_text, searched_word)\n",
        "\n",
        "print(result)\n"
      ],
      "metadata": {
        "id": "gXvqjCDWfiUp"
      },
      "execution_count": null,
      "outputs": []
    },
    {
      "cell_type": "markdown",
      "source": [
        "\n",
        "9.Write a Python program to extract year, month and date from an URL"
      ],
      "metadata": {
        "id": "NsdSpLSAfqGV"
      }
    },
    {
      "cell_type": "code",
      "source": [
        "import re\n",
        "\n",
        "def extract_date_from_url(url):\n",
        "    pattern = re.compile(r'/(\\d{4})/(\\d{2})/(\\d{2})/')\n",
        "    match = pattern.search(url)\n",
        "\n",
        "    if match:\n",
        "        year, month, day = match.groups()\n",
        "        return f\"Year: {year}, Month: {month}, Day: {day}\"\n",
        "    else:\n",
        "        return \"No date information found in the URL.\"\n",
        "\n",
        "url1 = \"https://www.washingtonpost.com/news/football-insider/wp/2016/09/02/odell-beckhams-fame-rests-on-one-stupid-little-ball-josh-norman-tells-author/\"\n",
        "result = extract_date_from_url(url1)\n",
        "\n",
        "print(result)\n"
      ],
      "metadata": {
        "id": "ukJwoPdKgBsm"
      },
      "execution_count": null,
      "outputs": []
    },
    {
      "cell_type": "markdown",
      "source": [
        "10.Write a Python program to find URLs in a string."
      ],
      "metadata": {
        "id": "tKcna_fYgKrz"
      }
    },
    {
      "cell_type": "code",
      "source": [
        "import re\n",
        "\n",
        "def find_urls(input_text):\n",
        "    pattern = re.compile(r'https?://\\S+')\n",
        "\n",
        "    urls = pattern.findall(input_text)\n",
        "    return urls\n",
        "text = '<p>Contents :</p><a href=\"https://w3resource.com\">Python Examples</a><a href=\"http://github.com\">Even More Examples</a>'\n",
        "result = find_urls(text)\n",
        "\n",
        "print(\"URLs found:\", result)\n"
      ],
      "metadata": {
        "id": "QUM7XU1agVXC"
      },
      "execution_count": null,
      "outputs": []
    },
    {
      "cell_type": "markdown",
      "source": [
        "11.Write a Python program to remove the parenthesis area in a string.\\\n",
        "Sample data : [\"example (.com)\", \"w3resource\", \"github (.com)\", \"stackoverflow (.com)\"]\n",
        "Expected Output:\n",
        "example\n",
        "w3resource\n",
        "github\n",
        "stackoverflow."
      ],
      "metadata": {
        "id": "nYjUs4_MgjvF"
      }
    },
    {
      "cell_type": "code",
      "source": [
        "import re\n",
        "\n",
        "def remove_parenthesis_area(strings):\n",
        "    result = []\n",
        "\n",
        "    for s in strings:\n",
        "        cleaned_string = re.sub(r'\\([^)]*\\)', '', s)\n",
        "        result.append(cleaned_string.strip())\n",
        "\n",
        "    return result\n",
        "sample_data = [\"example (.com)\", \"w3resource\", \"github (.com)\", \"stackoverflow (.com)\"]\n",
        "output = remove_parenthesis_area(sample_data)\n",
        "\n",
        "for cleaned_string in output:\n",
        "    print(cleaned_string)\n"
      ],
      "metadata": {
        "id": "6xGMMuFugsGX"
      },
      "execution_count": null,
      "outputs": []
    },
    {
      "cell_type": "markdown",
      "source": [
        "\n",
        "12.Write a Python program to concatenate the consecutive numbers in a given string.\n",
        "Original string:\n",
        "Enter at 1 20 Kearny Street. The security desk can direct you to floor 1 6. Please have your identification ready.\n",
        "\n",
        "After concatenating the consecutive numbers in the said string:\n",
        "Enter at 120 Kearny Street. The security desk can direct you to floor 16. Please have your identification ready"
      ],
      "metadata": {
        "id": "CJA_8D_xg5Pc"
      }
    },
    {
      "cell_type": "code",
      "source": [
        "import re\n",
        "\n",
        "def concatenate_consecutive_numbers(input_string):\n",
        "    result_string = re.sub(r'\\b(\\d+)\\s+(\\d+)\\b', lambda x: x.group(1) + x.group(2), input_string)\n",
        "\n",
        "    return result_string\n",
        "\n",
        "original_string = \"Enter at 1 20 Kearny Street. The security desk can direct you to floor 1 6. Please have your identification ready.\"\n",
        "concatenated_string = concatenate_consecutive_numbers(original_string)\n",
        "\n",
        "print(\"Original string:\")\n",
        "print(original_string)\n",
        "print(\"\\nAfter concatenating the consecutive numbers:\")\n",
        "print(concatenated_string)\n"
      ],
      "metadata": {
        "id": "k9hDtmI0hDZy"
      },
      "execution_count": null,
      "outputs": []
    }
  ]
}