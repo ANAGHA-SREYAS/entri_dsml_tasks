{
  "nbformat": 4,
  "nbformat_minor": 0,
  "metadata": {
    "colab": {
      "provenance": [],
      "authorship_tag": "ABX9TyOqpd4lc7Hj+6Ni1ierUQGA",
      "include_colab_link": true
    },
    "kernelspec": {
      "name": "python3",
      "display_name": "Python 3"
    },
    "language_info": {
      "name": "python"
    }
  },
  "cells": [
    {
      "cell_type": "markdown",
      "metadata": {
        "id": "view-in-github",
        "colab_type": "text"
      },
      "source": [
        "<a href=\"https://colab.research.google.com/github/ANAGHA-SREYAS/entri_dsml_tasks/blob/main/anagha_vp_task3.ipynb\" target=\"_parent\"><img src=\"https://colab.research.google.com/assets/colab-badge.svg\" alt=\"Open In Colab\"/></a>"
      ]
    },
    {
      "cell_type": "markdown",
      "source": [
        " 1. Write a Python program to create a class representing a Circle. Include methods to calculate its area and perimeter."
      ],
      "metadata": {
        "id": "a1h-JQ-BVceU"
      }
    },
    {
      "cell_type": "code",
      "source": [
        "class Circle:\n",
        "    def __init__(self, radius):\n",
        "        self.radius = radius\n",
        "\n",
        "    def calculate_area(self):\n",
        "        area = 3.14159 * (self.radius ** 2)\n",
        "        return area\n",
        "\n",
        "    def calculate_perimeter(self):\n",
        "        perimeter = 2 * 3.14159 * self.radius\n",
        "        return perimeter\n"
      ],
      "metadata": {
        "id": "LYJMCjhVWAa8"
      },
      "execution_count": null,
      "outputs": []
    },
    {
      "cell_type": "markdown",
      "source": [
        "2. Write a Python program to create a calculator class. Include methods for basic arithmetic operations."
      ],
      "metadata": {
        "id": "BJBTfl2SWplG"
      }
    },
    {
      "cell_type": "code",
      "source": [
        "class Calculator:\n",
        "    def add(self, x, y):\n",
        "        return x + y\n",
        "\n",
        "    def subtract(self, x, y):\n",
        "        return x - y\n",
        "\n",
        "    def multiply(self, x, y):\n",
        "        return x * y\n",
        "\n",
        "    def divide(self, x, y):\n",
        "        if y == 0:\n",
        "            return \"Cannot divide by zero\"\n",
        "        return x / y"
      ],
      "metadata": {
        "id": "otumdUo6Wryi"
      },
      "execution_count": null,
      "outputs": []
    },
    {
      "cell_type": "markdown",
      "source": [
        "3. Write a Python program to create a class that represents a shape. Include methods to calculate its area and perimeter. Implement subclasses for different shapes like circle, triangle, and square."
      ],
      "metadata": {
        "id": "oqS__RHxXBQx"
      }
    },
    {
      "cell_type": "code",
      "source": [
        "import math\n",
        "\n",
        "class Shape:\n",
        "    def calculate_area(self):\n",
        "        pass\n",
        "\n",
        "    def calculate_perimeter(self):\n",
        "        pass\n",
        "class Circle(Shape):\n",
        "    def __init__(self, radius):\n",
        "        self.radius = radius\n",
        "\n",
        "    def calculate_area(self):\n",
        "        area = math.pi * (self.radius ** 2)\n",
        "        return area\n",
        "\n",
        "    def calculate_perimeter(self):\n",
        "        perimeter = 2 * math.pi * self.radius\n",
        "        return perimeter\n",
        "class triangle(Shape):\n",
        "  def__init__(self,side1,side2,side3):\n",
        "    self.side1=side1\n",
        "    self.side2=side2\n",
        "    self.side3=side3\n",
        "\n",
        "    def calculate_area(self):\n",
        "        s = (self.side1 + self.side2 + self.side3) / 2\n",
        "        area = math.sqrt(s * (s - self.side1) * (s - self.side2) * (s - self.side3))\n",
        "        return area\n",
        "\n",
        "    def calculate_perimeter(self):\n",
        "        perimeter = self.side1 + self.side2 + self.side3\n",
        "        return perimeter\n",
        "\n",
        "class Square(Shape):\n",
        "    def __init__(self, side):\n",
        "        self.side = side\n",
        "\n",
        "    def calculate_area(self):\n",
        "        area = self.side ** 2\n",
        "        return area\n",
        "\n",
        "    def calculate_perimeter(self):\n",
        "        perimeter = 4 * self.side\n",
        "        return perimeter\n",
        "\n"
      ],
      "metadata": {
        "id": "S4nHSj94X4hA"
      },
      "execution_count": null,
      "outputs": []
    }
  ]
}